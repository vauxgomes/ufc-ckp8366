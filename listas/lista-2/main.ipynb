{
 "cells": [
  {
   "cell_type": "markdown",
   "id": "793506be-eaa9-4479-9b1b-9bc425bcadbe",
   "metadata": {},
   "source": [
    "# CKP8366 - TÓPICOS AVANÇADOS - APRENDIZAGEM DE MÁQUINA PROBABILÍSTICA\n",
    "\n",
    "<img  src=\"https://img.shields.io/badge/UFC_CKP8366-VAUX GOMES-000000?style=for-the-badge&logo=data:image/png;base64,iVBORw0KGgoAAAANSUhEUgAAAAsAAAAOCAYAAAD5YeaVAAAABHNCSVQICAgIfAhkiAAAAAlwSFlzAAAANgAAADYBsVpjYQAAABl0RVh0U29mdHdhcmUAd3d3Lmlua3NjYXBlLm9yZ5vuPBoAAAENSURBVCiRbdFBS9QBEAXw36y7Wq6IgUSGsixhJBpiRBB08XN7ETyIFyPYui2KBXsQTUphsbbx4Cz8E+cyw8ybN/NmQsMy8xO+YRkdXGA9Ig6g3QC+r/Ad/lS8hp9TTKtBvFB+Dt2qZXNyuxEnNnCORUQ1Xj8G/lX7trAfEVeZOYu3j63xDG8wg35mdiPiFpf/gTNzocZ+xQgv8KGYp3WRmTtYxQBPiv0Wh5W/wjaG7WI8K1HThlPsYowevmO+hZe4wfOImJTIV5jgafl/WInM3MBmMY5xXP41ltx/cgaDKAF999/q1L0/Yq9ygc8RMWxBRJzgN7bwF8PS0MNpRAwf3nlUAo/qdAf4gh9TwB2yEFM5Ddb+rgAAAABJRU5ErkJggg==\" /> <img src=\"https://img.shields.io/badge/Jupyter-000000?style=for-the-badge&logo=jupyter&logoColor=white\" /> <img src=\"https://img.shields.io/badge/Python-000000?style=for-the-badge&logo=python&logoColor=white\" />\n"
   ]
  },
  {
   "cell_type": "code",
   "execution_count": 1,
   "id": "688603d0-a438-4e60-a9ba-7a2d0ff6d4fa",
   "metadata": {},
   "outputs": [],
   "source": [
    "import numpy as np\n",
    "import pandas as pd\n",
    "import matplotlib.pyplot as plt\n",
    "\n",
    "from sklearn.model_selection import train_test_split\n",
    "from scipy.stats import multivariate_normal"
   ]
  },
  {
   "cell_type": "markdown",
   "id": "b17f21b5-926b-483f-ac06-6af4a6a83a05",
   "metadata": {},
   "source": [
    "### Carregamento dos dados"
   ]
  },
  {
   "cell_type": "code",
   "execution_count": 2,
   "id": "30320fdd-dc4e-43d9-84d1-8118cee427b1",
   "metadata": {},
   "outputs": [
    {
     "data": {
      "text/html": [
       "<div>\n",
       "<style scoped>\n",
       "    .dataframe tbody tr th:only-of-type {\n",
       "        vertical-align: middle;\n",
       "    }\n",
       "\n",
       "    .dataframe tbody tr th {\n",
       "        vertical-align: top;\n",
       "    }\n",
       "\n",
       "    .dataframe thead th {\n",
       "        text-align: right;\n",
       "    }\n",
       "</style>\n",
       "<table border=\"1\" class=\"dataframe\">\n",
       "  <thead>\n",
       "    <tr style=\"text-align: right;\">\n",
       "      <th></th>\n",
       "      <th>A</th>\n",
       "      <th>B</th>\n",
       "    </tr>\n",
       "  </thead>\n",
       "  <tbody>\n",
       "    <tr>\n",
       "      <th>0</th>\n",
       "      <td>0.392938</td>\n",
       "      <td>0.086360</td>\n",
       "    </tr>\n",
       "    <tr>\n",
       "      <th>1</th>\n",
       "      <td>-0.427721</td>\n",
       "      <td>-0.643872</td>\n",
       "    </tr>\n",
       "    <tr>\n",
       "      <th>2</th>\n",
       "      <td>-0.546297</td>\n",
       "      <td>-0.674981</td>\n",
       "    </tr>\n",
       "    <tr>\n",
       "      <th>3</th>\n",
       "      <td>0.102630</td>\n",
       "      <td>-0.262892</td>\n",
       "    </tr>\n",
       "    <tr>\n",
       "      <th>4</th>\n",
       "      <td>0.438938</td>\n",
       "      <td>0.143177</td>\n",
       "    </tr>\n",
       "    <tr>\n",
       "      <th>5</th>\n",
       "      <td>-0.153787</td>\n",
       "      <td>-0.472729</td>\n",
       "    </tr>\n",
       "    <tr>\n",
       "      <th>6</th>\n",
       "      <td>0.961528</td>\n",
       "      <td>0.114167</td>\n",
       "    </tr>\n",
       "    <tr>\n",
       "      <th>7</th>\n",
       "      <td>0.369659</td>\n",
       "      <td>-0.180323</td>\n",
       "    </tr>\n",
       "    <tr>\n",
       "      <th>8</th>\n",
       "      <td>-0.038136</td>\n",
       "      <td>0.011821</td>\n",
       "    </tr>\n",
       "    <tr>\n",
       "      <th>9</th>\n",
       "      <td>-0.215765</td>\n",
       "      <td>-0.079865</td>\n",
       "    </tr>\n",
       "  </tbody>\n",
       "</table>\n",
       "</div>"
      ],
      "text/plain": [
       "          A         B\n",
       "0  0.392938  0.086360\n",
       "1 -0.427721 -0.643872\n",
       "2 -0.546297 -0.674981\n",
       "3  0.102630 -0.262892\n",
       "4  0.438938  0.143177\n",
       "5 -0.153787 -0.472729\n",
       "6  0.961528  0.114167\n",
       "7  0.369659 -0.180323\n",
       "8 -0.038136  0.011821\n",
       "9 -0.215765 -0.079865"
      ]
     },
     "execution_count": 2,
     "metadata": {},
     "output_type": "execute_result"
    }
   ],
   "source": [
    "df = pd.read_csv('./files/linear_regression_data.csv', header=None)\n",
    "df.rename(columns={0: 'A', 1: 'B'}, inplace=True)\n",
    "df"
   ]
  },
  {
   "cell_type": "code",
   "execution_count": null,
   "id": "0f870bc5",
   "metadata": {},
   "outputs": [],
   "source": [
    "# Data\n",
    "data = df.to_numpy()\n",
    "\n",
    "# Normalization (Z-score)\n",
    "mean = np.mean(data, axis=0)\n",
    "std  = np.std(data, axis=0)\n",
    "\n",
    "data = (data - mean) / std\n",
    "\n",
    "X = data[:, :-1]\n",
    "y = data[:, -1:]\n",
    "\n",
    "# Split\n",
    "# X_train, X_test, y_train, y_test = train_test_split(X, y, train_size=0.66, random_state=42)"
   ]
  },
  {
   "cell_type": "markdown",
   "id": "553d9f64",
   "metadata": {},
   "source": [
    "Z-Score $$z = \\frac{x-\\mu}{\\sigma}$$"
   ]
  },
  {
   "cell_type": "markdown",
   "id": "c23ff471-0e4e-4ae3-905a-13037aa18546",
   "metadata": {},
   "source": [
    "### Questão 1"
   ]
  },
  {
   "cell_type": "code",
   "execution_count": 206,
   "id": "0148ee0c",
   "metadata": {},
   "outputs": [],
   "source": [
    "class BayesianLinearRegression:\n",
    "    def __init__(self, alpha=10, sigma=1):\n",
    "        self.alpha = alpha\n",
    "        self.sigma = sigma\n",
    "\n",
    "    def fit(self, X, y):\n",
    "        # Addind Bias Column\n",
    "        X_ = np.c_[np.ones((X.shape[0],1)), X ] # (D x N)\n",
    "        N = X_.shape[1] # Bias included\n",
    "\n",
    "        # Step 1\n",
    "        m0 = np.linalg.inv(X_.T @ X_) @ X_.T @ y # Regression → Mean: (N x 1)\n",
    "        S0 = self.alpha**-1 * np.eye(N) # Covavriance Matrix: (N x N)\n",
    "        \n",
    "        # Step 1.9999: Parts\n",
    "        s0xt  = S0 @ X_.T # (N x D)\n",
    "        s0xtx = s0xt @ X_ # (N x N)\n",
    "        inv = np.linalg.inv(s0xtx + (self.sigma * np.eye(N))) # (N x N)\n",
    "\n",
    "        # Step 2\n",
    "        self.mu = m0 + inv  @ s0xt @ (y - X_ @ m0) # (N x 1)\n",
    "        self.big_sigma = S0 - inv @ s0xtx @ S0     # (N x N)\n",
    "        \n",
    "        # Distribution \n",
    "        self.posterior = multivariate_normal(\n",
    "            mean=self.mu.ravel(), \n",
    "            cov=self.big_sigma).pdf\n",
    "        \n",
    "    def predict(self, X):\n",
    "        # Addind Bias Column\n",
    "        X_ = np.c_[np.ones((X.shape[0],1)), X ] # (D x N)\n",
    "        D = X_.shape[0] # Bias included\n",
    "        \n",
    "        #\n",
    "        mean = X_ @ self.mu # (D x 1)\n",
    "        cov  = X_ @ self.big_sigma @ X_.T + self.sigma * np.eye(D)\n",
    "        \n",
    "        # Predictive distribution        \n",
    "        pred_dist = multivariate_normal(mean=mean.ravel(), cov=cov).pdf\n",
    "        \n",
    "        return pred_dist(X)\n",
    "    \n",
    "    def __str__(self):\n",
    "        return f'BayesianLinearRegression: \\n(alpha → {self.alpha:.2f}) (sigma → {self.sigma:.2f}) \\n(coefs → {self.mu.ravel() if hasattr(self, \"mu\") else None})'"
   ]
  },
  {
   "cell_type": "code",
   "execution_count": null,
   "id": "d21284d2-8fcc-4e26-a92d-7075e516da5a",
   "metadata": {},
   "outputs": [
    {
     "data": {
      "image/png": "[encoded data removed]",
      "text/plain": [
       "<Figure size 640x480 with 1 Axes>"
      ]
     },
     "metadata": {},
     "output_type": "display_data"
    }
   ],
   "source": [
    "bregr = BayesianLinearRegression()\n",
    "bregr.fit(X, y)\n",
    "\n",
    "# Plot\n",
    "y_hat = np.c_[np.ones((100 ,1)), np.linspace(X.min(), X.max(), 100)] @ bregr.mu\n",
    "\n",
    "# Real data\n",
    "plt.scatter(X, y, color='gray', label=\"X\")\n",
    "\n",
    "# Lines\n",
    "plt.plot(\n",
    "    np.linspace(X.min(), X.max(), 100), y_hat, \n",
    "    color='blue', label=\"posteriori\")\n",
    "plt.plot(\n",
    "    np.linspace(X.min(), X.max(), 100), [0]*100, \n",
    "    color='red', label=\"priori\")\n",
    "\n",
    "plt.title(bregr)\n",
    "plt.legend(bbox_to_anchor=(1, 1), loc=\"upper left\")\n",
    "plt.show()"
   ]
  }
 ],
 "metadata": {
  "kernelspec": {
   "display_name": "venv",
   "language": "python",
   "name": "python3"
  },
  "language_info": {
   "codemirror_mode": {
    "name": "ipython",
    "version": 3
   },
   "file_extension": ".py",
   "mimetype": "text/x-python",
   "name": "python",
   "nbconvert_exporter": "python",
   "pygments_lexer": "ipython3",
   "version": "3.9.6"
  }
 },
 "nbformat": 4,
 "nbformat_minor": 5
}
