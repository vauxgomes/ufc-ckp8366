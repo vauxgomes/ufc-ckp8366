{
 "cells": [
  {
   "cell_type": "markdown",
   "id": "793506be-eaa9-4479-9b1b-9bc425bcadbe",
   "metadata": {},
   "source": [
    "# CKP8366 - TÓPICOS AVANÇADOS - APRENDIZAGEM DE MÁQUINA PROBABILÍSTICA\n",
    "\n",
    "<img  src=\"https://img.shields.io/badge/UFC_CKP8366-VAUX GOMES-000000?style=for-the-badge&logo=data:image/png;base64,iVBORw0KGgoAAAANSUhEUgAAAAsAAAAOCAYAAAD5YeaVAAAABHNCSVQICAgIfAhkiAAAAAlwSFlzAAAANgAAADYBsVpjYQAAABl0RVh0U29mdHdhcmUAd3d3Lmlua3NjYXBlLm9yZ5vuPBoAAAENSURBVCiRbdFBS9QBEAXw36y7Wq6IgUSGsixhJBpiRBB08XN7ETyIFyPYui2KBXsQTUphsbbx4Cz8E+cyw8ybN/NmQsMy8xO+YRkdXGA9Ig6g3QC+r/Ad/lS8hp9TTKtBvFB+Dt2qZXNyuxEnNnCORUQ1Xj8G/lX7trAfEVeZOYu3j63xDG8wg35mdiPiFpf/gTNzocZ+xQgv8KGYp3WRmTtYxQBPiv0Wh5W/wjaG7WI8K1HThlPsYowevmO+hZe4wfOImJTIV5jgafl/WInM3MBmMY5xXP41ltx/cgaDKAF999/q1L0/Yq9ygc8RMWxBRJzgN7bwF8PS0MNpRAwf3nlUAo/qdAf4gh9TwB2yEFM5Ddb+rgAAAABJRU5ErkJggg==\" /> <img src=\"https://img.shields.io/badge/Jupyter-000000?style=for-the-badge&logo=jupyter&logoColor=white\" /> <img src=\"https://img.shields.io/badge/Python-000000?style=for-the-badge&logo=python&logoColor=white\" />\n"
   ]
  },
  {
   "cell_type": "code",
   "execution_count": 1,
   "id": "688603d0-a438-4e60-a9ba-7a2d0ff6d4fa",
   "metadata": {},
   "outputs": [],
   "source": [
    "import numpy as np\n",
    "import pandas as pd\n",
    "import matplotlib.pyplot as plt\n",
    "\n",
    "from sklearn.model_selection import train_test_split\n",
    "from scipy.stats import multivariate_normal"
   ]
  },
  {
   "cell_type": "code",
   "execution_count": 2,
   "id": "6ebd84b6-754a-4234-86c6-c508e200f724",
   "metadata": {},
   "outputs": [],
   "source": [
    "import warnings\n",
    "warnings.filterwarnings('ignore')"
   ]
  },
  {
   "cell_type": "markdown",
   "id": "b17f21b5-926b-483f-ac06-6af4a6a83a05",
   "metadata": {},
   "source": [
    "### Carregamento dos dados"
   ]
  },
  {
   "cell_type": "code",
   "execution_count": 67,
   "id": "30320fdd-dc4e-43d9-84d1-8118cee427b1",
   "metadata": {},
   "outputs": [
    {
     "data": {
      "text/html": [
       "<div>\n",
       "<style scoped>\n",
       "    .dataframe tbody tr th:only-of-type {\n",
       "        vertical-align: middle;\n",
       "    }\n",
       "\n",
       "    .dataframe tbody tr th {\n",
       "        vertical-align: top;\n",
       "    }\n",
       "\n",
       "    .dataframe thead th {\n",
       "        text-align: right;\n",
       "    }\n",
       "</style>\n",
       "<table border=\"1\" class=\"dataframe\">\n",
       "  <thead>\n",
       "    <tr style=\"text-align: right;\">\n",
       "      <th></th>\n",
       "      <th>A</th>\n",
       "      <th>B</th>\n",
       "    </tr>\n",
       "  </thead>\n",
       "  <tbody>\n",
       "    <tr>\n",
       "      <th>0</th>\n",
       "      <td>0.392938</td>\n",
       "      <td>0.086360</td>\n",
       "    </tr>\n",
       "    <tr>\n",
       "      <th>1</th>\n",
       "      <td>-0.427721</td>\n",
       "      <td>-0.643872</td>\n",
       "    </tr>\n",
       "    <tr>\n",
       "      <th>2</th>\n",
       "      <td>-0.546297</td>\n",
       "      <td>-0.674981</td>\n",
       "    </tr>\n",
       "    <tr>\n",
       "      <th>3</th>\n",
       "      <td>0.102630</td>\n",
       "      <td>-0.262892</td>\n",
       "    </tr>\n",
       "    <tr>\n",
       "      <th>4</th>\n",
       "      <td>0.438938</td>\n",
       "      <td>0.143177</td>\n",
       "    </tr>\n",
       "  </tbody>\n",
       "</table>\n",
       "</div>"
      ],
      "text/plain": [
       "          A         B\n",
       "0  0.392938  0.086360\n",
       "1 -0.427721 -0.643872\n",
       "2 -0.546297 -0.674981\n",
       "3  0.102630 -0.262892\n",
       "4  0.438938  0.143177"
      ]
     },
     "execution_count": 67,
     "metadata": {},
     "output_type": "execute_result"
    }
   ],
   "source": [
    "df = pd.read_csv('./files/linear_regression_data.csv', header=None)\n",
    "df.rename(columns={0: 'A', 1: 'B'}, inplace=True)\n",
    "\n",
    "#\n",
    "data = df.to_numpy()\n",
    "X = data[:, :-1]\n",
    "y = data[:, -1:]\n",
    "\n",
    "#\n",
    "X_train, X_test, y_train, y_test = \\\n",
    "        train_test_split(X, y, train_size=0.66, random_state=42)\n",
    "\n",
    "#\n",
    "df.head(5)"
   ]
  },
  {
   "cell_type": "code",
   "execution_count": 70,
   "id": "781b4049-c3c9-4770-ad1c-0d07ce7c97fd",
   "metadata": {},
   "outputs": [
    {
     "data": {
      "text/plain": [
       "array([[ 0.39293837],\n",
       "       [-0.42772133],\n",
       "       [-0.54629709],\n",
       "       [ 0.10262954],\n",
       "       [ 0.43893794],\n",
       "       [-0.15378708],\n",
       "       [ 0.9615284 ],\n",
       "       [ 0.36965948],\n",
       "       [-0.0381362 ],\n",
       "       [-0.21576496]])"
      ]
     },
     "execution_count": 70,
     "metadata": {},
     "output_type": "execute_result"
    }
   ],
   "source": [
    "X.max()"
   ]
  },
  {
   "cell_type": "code",
   "execution_count": 81,
   "id": "041ac13e-cc6c-4461-8163-72d3189315af",
   "metadata": {},
   "outputs": [
    {
     "name": "stdout",
     "output_type": "stream",
     "text": [
      "[[0.45527012]]\n"
     ]
    },
    {
     "data": {
      "image/png": "[encoded data removed]",
      "text/plain": [
       "<Figure size 640x480 with 1 Axes>"
      ]
     },
     "metadata": {},
     "output_type": "display_data"
    }
   ],
   "source": [
    "from sklearn import linear_model\n",
    "\n",
    "regr = linear_model.LinearRegression()\n",
    "regr.fit(X_train, y_train)\n",
    "\n",
    "plt.scatter(X_train, y_train, color='gray')\n",
    "plt.scatter(X_test, y_test, color='black', marker='X')\n",
    "\n",
    "plt.plot(\n",
    "    np.linspace(X.min(), X.max(), 100),\n",
    "    regr.predict(\n",
    "        np.linspace(X.min(), X.max(), 100).reshape(100, -1)), \n",
    "    color='blue')\n",
    "\n",
    "print(regr.coef_)"
   ]
  },
  {
   "cell_type": "markdown",
   "id": "c23ff471-0e4e-4ae3-905a-13037aa18546",
   "metadata": {},
   "source": [
    "### Questão 1"
   ]
  },
  {
   "cell_type": "code",
   "execution_count": 92,
   "id": "0148ee0c",
   "metadata": {},
   "outputs": [
    {
     "name": "stdout",
     "output_type": "stream",
     "text": [
      "7.469095235346361e-296\n",
      "[0.36965948] (10, 1)\n",
      "Densidade de probabilidade no ponto [0.36965948]: 0.0\n"
     ]
    }
   ],
   "source": [
    "class BayesianLinearRegression:\n",
    "    def __init__(self, mean=0, sigma=0.0001):\n",
    "        self.mean = mean\n",
    "        self.sigma = sigma\n",
    "\n",
    "    def fit(self, X, y):\n",
    "        # Prior w\n",
    "        prior = multivariate_normal(\n",
    "            mean=self.mean, cov=self.sigma*np.eye(X.shape[1])).pdf\n",
    "        \n",
    "        print(prior(X_train[0]))\n",
    "\n",
    "bregr = BayesianLinearRegression()\n",
    "bregr.fit(X_train, y_train)\n",
    "\n",
    "print(X_train[0], X.shape)"
   ]
  },
  {
   "cell_type": "code",
   "execution_count": null,
   "id": "38d8afdc-2785-4c04-9744-e0c588ce54dd",
   "metadata": {},
   "outputs": [],
   "source": []
  }
 ],
 "metadata": {
  "kernelspec": {
   "display_name": "Python 3 (ipykernel)",
   "language": "python",
   "name": "python3"
  },
  "language_info": {
   "codemirror_mode": {
    "name": "ipython",
    "version": 3
   },
   "file_extension": ".py",
   "mimetype": "text/x-python",
   "name": "python",
   "nbconvert_exporter": "python",
   "pygments_lexer": "ipython3",
   "version": "3.11.6"
  }
 },
 "nbformat": 4,
 "nbformat_minor": 5
}
