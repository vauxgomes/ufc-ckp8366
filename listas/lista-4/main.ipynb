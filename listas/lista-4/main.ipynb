{
 "cells": [
  {
   "cell_type": "markdown",
   "metadata": {},
   "source": [
    "# CKP8366 - TÓPICOS AVANÇADOS - APRENDIZAGEM DE MÁQUINA PROBABILÍSTICA\n",
    "\n",
    "<img  src=\"https://img.shields.io/badge/UFC_CKP8366-VAUX GOMES-000000?style=for-the-badge&logo=data:image/png;base64,iVBORw0KGgoAAAANSUhEUgAAAAsAAAAOCAYAAAD5YeaVAAAABHNCSVQICAgIfAhkiAAAAAlwSFlzAAAANgAAADYBsVpjYQAAABl0RVh0U29mdHdhcmUAd3d3Lmlua3NjYXBlLm9yZ5vuPBoAAAENSURBVCiRbdFBS9QBEAXw36y7Wq6IgUSGsixhJBpiRBB08XN7ETyIFyPYui2KBXsQTUphsbbx4Cz8E+cyw8ybN/NmQsMy8xO+YRkdXGA9Ig6g3QC+r/Ad/lS8hp9TTKtBvFB+Dt2qZXNyuxEnNnCORUQ1Xj8G/lX7trAfEVeZOYu3j63xDG8wg35mdiPiFpf/gTNzocZ+xQgv8KGYp3WRmTtYxQBPiv0Wh5W/wjaG7WI8K1HThlPsYowevmO+hZe4wfOImJTIV5jgafl/WInM3MBmMY5xXP41ltx/cgaDKAF999/q1L0/Yq9ygc8RMWxBRJzgN7bwF8PS0MNpRAwf3nlUAo/qdAf4gh9TwB2yEFM5Ddb+rgAAAABJRU5ErkJggg==\" /> <img src=\"https://img.shields.io/badge/Jupyter-000000?style=for-the-badge&logo=jupyter&logoColor=white\" /> <img src=\"https://img.shields.io/badge/Python-000000?style=for-the-badge&logo=python&logoColor=white\" />"
   ]
  },
  {
   "cell_type": "code",
   "execution_count": 1,
   "metadata": {},
   "outputs": [],
   "source": [
    "import numpy as np\n",
    "from scipy.stats import norm, multivariate_normal\n",
    "\n",
    "import json\n",
    "import matplotlib.pyplot as plt"
   ]
  },
  {
   "cell_type": "markdown",
   "metadata": {},
   "source": [
    "## Probabilistic Principal Components Analysis (PPCA)"
   ]
  },
  {
   "cell_type": "code",
   "execution_count": 30,
   "metadata": {},
   "outputs": [],
   "source": [
    "class ProbabilisticPCA:\n",
    "  #\n",
    "  def __init__(self, L, epochs=50, seed=42):\n",
    "    self.L = L\n",
    "    self.epochs = epochs\n",
    "    self.seed = seed\n",
    "    \n",
    "    self.mu = None\n",
    "    self.W = None\n",
    "    self.sigma2 = None\n",
    "    self.likelihoods = None\n",
    "   \n",
    "  # \n",
    "  def fit(self, X, verbose=False):\n",
    "    np.random.seed(self.seed)\n",
    "    \n",
    "    #\n",
    "    N, D = X.shape\n",
    "    L = min(max(1, self.L), D) # Safety\n",
    "    \n",
    "    # Step 1.1\n",
    "    mu = np.mean(X, axis=0)\n",
    "    W = np.random.normal(0, 0.1, size=(D, L))\n",
    "    sigma2 = np.var(X, axis=0).mean() # Variância média\n",
    "    \n",
    "    #\n",
    "    likelihoods = np.zeros(self.epochs)\n",
    "    \n",
    "    # Epochs\n",
    "    for e in range(self.epochs):\n",
    "      # \"Progress bar\"\n",
    "      if verbose:\n",
    "        print(f'[ {\"#\" * (e + 1)}{\"-\" * (self.epochs - e - 1)} ]: {e + 1}/{self.epochs}', end=\"\\r\")\n",
    "        \n",
    "      # Step E / Step 2.1\n",
    "      Minv = np.linalg.inv(W.T @ W + sigma2 * np.eye(L))\n",
    "      MinvWT = Minv @ W.T\n",
    "\n",
    "      Ez = np.zeros((N, L))\n",
    "      EzzT = np.zeros((N, L, L))\n",
    "\n",
    "      for i in range(N):\n",
    "          diff = X[i] - mu\n",
    "          Ez[i] = MinvWT @ diff\n",
    "          EzzT[i] = sigma2 * Minv + np.outer(Ez[i], Ez[i])\n",
    " \n",
    "      # Step M / Step 2.2\n",
    "      W = np.zeros((D, L))\n",
    "      for i in range(N):\n",
    "          diff = X[i] - mu\n",
    "          W += np.outer(diff, Ez[i])\n",
    "\n",
    "      W = W @ np.linalg.inv(np.sum(EzzT, axis=0))\n",
    "      \n",
    "      #\n",
    "      sigma2_ = 0\n",
    "      for i in range(N):\n",
    "          diff = X[i] - mu\n",
    "          sigma2_ += np.linalg.norm(diff)**2 - 2 * np.dot(Ez[i], W.T @ diff) + np.trace(EzzT[i] @ W.T @ W)\n",
    "\n",
    "      sigma2 = (1 / (N * D)) * sigma2_\n",
    "      \n",
    "      # Likelihood      \n",
    "      try:\n",
    "          Sigma = W @ W.T + sigma2 * np.eye(D)\n",
    "          SigmaInv = np.linalg.inv(Sigma)\n",
    "          \n",
    "          chocho = np.linalg.cholesky(Sigma)\n",
    "          logdet = 2 * np.sum(np.log(np.diag(chocho)))\n",
    "          last = np.sum(np.einsum('ni,ij,nj->n', X - mu, SigmaInv, X - mu))\n",
    "          \n",
    "          likelihoods[e] = (-0.5 * N * D * np.log(2 * np.pi) - 0.5 * N * logdet - 0.5 * last)\n",
    "      except np.linalg.LinAlgError:\n",
    "          likelihoods[e] = -np.inf\n",
    "          break # Deu ruim: Sigma não determinado\n",
    "\n",
    "    # Safety\n",
    "    if verbose:\n",
    "      print('Fim', end='\\r')\n",
    "        \n",
    "    self.mu = mu\n",
    "    self.W = W\n",
    "    self.sigma2 = sigma2\n",
    "    self.likelihoods = likelihoods\n",
    "\n",
    "  #\n",
    "  def save(self, filename):\n",
    "    data = {\n",
    "      'L': self.L,\n",
    "      'epochs': self.epochs,\n",
    "      'seed': self.seed,\n",
    "      \n",
    "      'mu': self.mu.tolist() if self.mu is not None else None,\n",
    "      'W': self.W.tolist() if self.W is not None else None,\n",
    "      'likelihoods': self.likelihoods.tolist() if self.likelihoods is not None else None,\n",
    "      'sigma2': self.sigma2,\n",
    "    }\n",
    "    \n",
    "    with open(filename, 'w') as file:\n",
    "      json.dump(data, file, indent=2)\n",
    "     \n",
    "  # \n",
    "  @classmethod\n",
    "  def load(cls, filename):\n",
    "    with open(filename, 'r') as file:\n",
    "      data = json.load(file)\n",
    "      \n",
    "      instance = cls(L=data['L'], epochs=data['epochs'], seed=data['seed'])\n",
    "      instance.mu = np.array(data['mu']) if data['mu'] is not None else None\n",
    "      instance.W = np.array(data['W']) if data['W'] is not None else None\n",
    "      instance.likelihoods = np.array(data['likelihoods']) if data['likelihoods'] is not None else None\n",
    "      instance.sigma2 = np.array(data['sigma2'])\n",
    "      \n",
    "      return instance\n",
    "    \n",
    "  #\n",
    "  def __str__(self):\n",
    "      return f\"ProbabilisticPCA: (L → {self.L})(Epochs → {self.epochs})\""
   ]
  },
  {
   "cell_type": "markdown",
   "metadata": {},
   "source": [
    "#### Carregamento dos dados"
   ]
  },
  {
   "cell_type": "code",
   "execution_count": 8,
   "metadata": {},
   "outputs": [
    {
     "data": {
      "text/plain": [
       "(6313, 784)"
      ]
     },
     "execution_count": 8,
     "metadata": {},
     "output_type": "execute_result"
    }
   ],
   "source": [
    "# Data\n",
    "X = np.genfromtxt('./files/mnist_5.csv', delimiter=',')\n",
    "X.shape"
   ]
  },
  {
   "cell_type": "markdown",
   "metadata": {},
   "source": [
    "#### Training"
   ]
  },
  {
   "cell_type": "code",
   "execution_count": 19,
   "metadata": {},
   "outputs": [
    {
     "name": "stdout",
     "output_type": "stream",
     "text": [
      "ProbabilisticPCA: (L → 2)(Epochs → 4)\n",
      "Saved:  ./files/saves/L2-E4-S42.json\n",
      "ProbabilisticPCA: (L → 3)(Epochs → 4)\n",
      "Saved:  ./files/saves/L3-E4-S42.json\n",
      "CPU times: user 1min 27s, sys: 546 ms, total: 1min 27s\n",
      "Wall time: 1min 28s\n"
     ]
    }
   ],
   "source": [
    "def run(X, Ls, epochs=50, seed=42, verbose=False, path=None):\n",
    "  models = []\n",
    "  \n",
    "  for L in Ls:\n",
    "    ppca = ProbabilisticPCA(L=L, seed=seed, epochs=epochs)\n",
    "    \n",
    "    if verbose:\n",
    "      print(ppca)\n",
    "      \n",
    "    ppca.fit(X, verbose=verbose)\n",
    "    models.append(ppca)\n",
    "    \n",
    "    if path:\n",
    "      filename = f'{path}L{ppca.L}E{ppca.epochs}S{ppca.seed}.json'\n",
    "      ppca.save(filename)\n",
    "      \n",
    "      if verbose:\n",
    "        print(\"Saved: \", filename)\n",
    "    \n",
    "  return models"
   ]
  },
  {
   "cell_type": "code",
   "execution_count": null,
   "metadata": {},
   "outputs": [],
   "source": [
    "# Just in case\n",
    "if 'models' not in globals():\n",
    "  path = './files/saves/'\n",
    "  models = [ProbabilisticPCA.load(f'{path}L{L}E4S42.json') for L in [2, 3]]\n",
    "  \n",
    "  print('Loaded')"
   ]
  },
  {
   "cell_type": "code",
   "execution_count": 44,
   "metadata": {},
   "outputs": [
    {
     "data": {
      "image/png": "[encoded data removed]",
      "text/plain": [
       "<Figure size 1000x500 with 2 Axes>"
      ]
     },
     "metadata": {},
     "output_type": "display_data"
    }
   ],
   "source": [
    "def sidebyside(left, right):\n",
    "  fig, axs = plt.subplots(1, 2, figsize=(10, 5))\n",
    "  fig.tight_layout()\n",
    "\n",
    "  axs[0].imshow(left.reshape(28, 28),  cmap='gray'), axs[0].set_xticks([]), axs[0].set_yticks([])\n",
    "  axs[1].imshow(right.reshape(28, 28), cmap='gray'), axs[1].set_xticks([]), axs[1].set_yticks([])\n",
    "\n",
    "sidebyside(X[0], X[1])"
   ]
  },
  {
   "cell_type": "code",
   "execution_count": 275,
   "metadata": {},
   "outputs": [
    {
     "data": {
      "text/plain": [
       "np.float64(-2.6637497359477565e+23)"
      ]
     },
     "execution_count": 275,
     "metadata": {},
     "output_type": "execute_result"
    }
   ],
   "source": [
    "# Likelihood\n",
    "# epsilon = 1e-6\n",
    "L = 2\n",
    "M = W.T @ W + sigma2 * np.eye(L)\n",
    "\n",
    "Sigma = W @ W.T + sigma2 * np.eye(D)\n",
    "# SigmaInv = 0.5 * sigma2 * np.eye(D) -0.5 * sigma2 * (W @ np.linalg.inv(M) @ W.T) # Usando identidade de Woodbury\n",
    "# logdet = 2 * np.sum(np.log(np.diag(np.linalg.cholesky(Sigma)))) # Usando Cholesky\n",
    " \n",
    "# part = 0\n",
    "\n",
    "# for i in range(N):\n",
    "#   diff = X[i] - mu\n",
    "#   part += diff @ SigmaInv @ diff\n",
    "  \n",
    "# likelihood.append((-0.5 * (N * D) * np.log(2 * np.pi)) - (0.5 * N * logdet) - (0.5 * part))\n",
    "# likelihood[-1]"
   ]
  }
 ],
 "metadata": {
  "kernelspec": {
   "display_name": "venv",
   "language": "python",
   "name": "python3"
  },
  "language_info": {
   "codemirror_mode": {
    "name": "ipython",
    "version": 3
   },
   "file_extension": ".py",
   "mimetype": "text/x-python",
   "name": "python",
   "nbconvert_exporter": "python",
   "pygments_lexer": "ipython3",
   "version": "3.9.6"
  }
 },
 "nbformat": 4,
 "nbformat_minor": 2
}
