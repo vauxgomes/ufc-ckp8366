{
 "cells": [
  {
   "cell_type": "markdown",
   "id": "793506be-eaa9-4479-9b1b-9bc425bcadbe",
   "metadata": {},
   "source": [
    "# CKP8366 - TÓPICOS AVANÇADOS - APRENDIZAGEM DE MÁQUINA PROBABILÍSTICA\n",
    "\n",
    "<img  src=\"https://img.shields.io/badge/UFC_CKP8366-VAUX GOMES-000000?style=for-the-badge&logo=data:image/png;base64,iVBORw0KGgoAAAANSUhEUgAAAAsAAAAOCAYAAAD5YeaVAAAABHNCSVQICAgIfAhkiAAAAAlwSFlzAAAANgAAADYBsVpjYQAAABl0RVh0U29mdHdhcmUAd3d3Lmlua3NjYXBlLm9yZ5vuPBoAAAENSURBVCiRbdFBS9QBEAXw36y7Wq6IgUSGsixhJBpiRBB08XN7ETyIFyPYui2KBXsQTUphsbbx4Cz8E+cyw8ybN/NmQsMy8xO+YRkdXGA9Ig6g3QC+r/Ad/lS8hp9TTKtBvFB+Dt2qZXNyuxEnNnCORUQ1Xj8G/lX7trAfEVeZOYu3j63xDG8wg35mdiPiFpf/gTNzocZ+xQgv8KGYp3WRmTtYxQBPiv0Wh5W/wjaG7WI8K1HThlPsYowevmO+hZe4wfOImJTIV5jgafl/WInM3MBmMY5xXP41ltx/cgaDKAF999/q1L0/Yq9ygc8RMWxBRJzgN7bwF8PS0MNpRAwf3nlUAo/qdAf4gh9TwB2yEFM5Ddb+rgAAAABJRU5ErkJggg==\" /> <img src=\"https://img.shields.io/badge/Jupyter-000000?style=for-the-badge&logo=jupyter&logoColor=white\" /> <img src=\"https://img.shields.io/badge/Python-000000?style=for-the-badge&logo=python&logoColor=white\" />\n"
   ]
  },
  {
   "cell_type": "code",
   "execution_count": 1,
   "id": "6d7e876f",
   "metadata": {},
   "outputs": [
    {
     "name": "stdout",
     "output_type": "stream",
     "text": [
      "Requirement already satisfied: pip in /Users/vaux/Projects/ufc-ckp8366/venv/lib/python3.9/site-packages (25.0.1)\n",
      "Note: you may need to restart the kernel to use updated packages.\n",
      "Requirement already satisfied: torch in /Users/vaux/Projects/ufc-ckp8366/venv/lib/python3.9/site-packages (2.6.0)\n",
      "Requirement already satisfied: filelock in /Users/vaux/Projects/ufc-ckp8366/venv/lib/python3.9/site-packages (from torch) (3.17.0)\n",
      "Requirement already satisfied: typing-extensions>=4.10.0 in /Users/vaux/Projects/ufc-ckp8366/venv/lib/python3.9/site-packages (from torch) (4.12.2)\n",
      "Requirement already satisfied: networkx in /Users/vaux/Projects/ufc-ckp8366/venv/lib/python3.9/site-packages (from torch) (3.2.1)\n",
      "Requirement already satisfied: jinja2 in /Users/vaux/Projects/ufc-ckp8366/venv/lib/python3.9/site-packages (from torch) (3.1.5)\n",
      "Requirement already satisfied: fsspec in /Users/vaux/Projects/ufc-ckp8366/venv/lib/python3.9/site-packages (from torch) (2025.2.0)\n",
      "Requirement already satisfied: sympy==1.13.1 in /Users/vaux/Projects/ufc-ckp8366/venv/lib/python3.9/site-packages (from torch) (1.13.1)\n",
      "Requirement already satisfied: mpmath<1.4,>=1.1.0 in /Users/vaux/Projects/ufc-ckp8366/venv/lib/python3.9/site-packages (from sympy==1.13.1->torch) (1.3.0)\n",
      "Requirement already satisfied: MarkupSafe>=2.0 in /Users/vaux/Projects/ufc-ckp8366/venv/lib/python3.9/site-packages (from jinja2->torch) (3.0.2)\n",
      "Note: you may need to restart the kernel to use updated packages.\n"
     ]
    }
   ],
   "source": [
    "%pip install --upgrade pip\n",
    "%pip install torch # Pode demorar um pouco"
   ]
  },
  {
   "cell_type": "code",
   "execution_count": 2,
   "id": "cbe5da16",
   "metadata": {},
   "outputs": [],
   "source": [
    "import numpy as np\n",
    "import torch\n",
    "import matplotlib.pyplot as plt"
   ]
  },
  {
   "cell_type": "markdown",
   "id": "18d00a34",
   "metadata": {},
   "source": [
    "## Radial Basis Function Kernel\n",
    "\n",
    "- Versão mais comum:\n",
    "$$k(x_1, x_2) = \\exp\\left(-\\frac{\\|x_1 - x_2\\|^2}{2\\sigma^2}\\right)$$\n",
    "\n",
    "- O slide mostra uma versão ponderada (um pouco diferente)"
   ]
  },
  {
   "cell_type": "markdown",
   "id": "331ece5a",
   "metadata": {},
   "source": [
    "> $$\\displaystyle k(x_i, x_j) = \\sigma^2 \\exp \\left(-\\frac{1}{2} \\sum_{d=1}^D w_d^2(x_{id} - x_{jd})^2\\right)$$"
   ]
  },
  {
   "cell_type": "code",
   "execution_count": 11,
   "id": "42fc8053",
   "metadata": {},
   "outputs": [],
   "source": [
    "# RBF\n",
    "def rbf(xi, xj, sigma, weights=None):\n",
    "  ''' Funciona tanto para Matriz x Vetor quanto para Matriz x Matriz '''\n",
    "  xi = torch.tensor(xi, dtype=torch.float32)\n",
    "  xj = torch.tensor(xj, dtype=torch.float32)\n",
    " \n",
    "  diff = torch.cdist(xi, xj, p=2)\n",
    "  return sigma**2 * torch.exp(-0.5 * (diff ** 2 * weights**2))"
   ]
  },
  {
   "cell_type": "markdown",
   "id": "e9a7a24e",
   "metadata": {},
   "source": [
    "## Gaussian Process"
   ]
  },
  {
   "cell_type": "code",
   "execution_count": 22,
   "id": "4bd81902",
   "metadata": {},
   "outputs": [],
   "source": [
    "class GaussianProcessRBF:\n",
    "  def __init__(self, sigma=1.0, noise=0.1, learning_rate=0.01, epochs=100):\n",
    "    self.lr = learning_rate\n",
    "    self.epochs = max(10, epochs) # Safety\n",
    "    \n",
    "    self.sigma = torch.tensor(sigma, dtype=torch.float32, requires_grad=True)\n",
    "    self.noise = torch.tensor(noise, dtype=torch.float32, requires_grad=True)\n",
    "  \n",
    "  # RBF Kernel\n",
    "  def kernel(self, xi, xj):\n",
    "    # Safety\n",
    "    xi = torch.tensor(xi, dtype=torch.float32) if not isinstance(xi, torch.Tensor) else xi\n",
    "    xj = torch.tensor(xj, dtype=torch.float32) if not isinstance(xj, torch.Tensor) else xj\n",
    "    \n",
    "    #\n",
    "    sqdist = torch.sum((xi.unsqueeze(1) - xj.unsqueeze(0))**2 * self.weights**2, dim=-1)\n",
    "    return self.sigma**2 * torch.exp(-0.5 * sqdist)\n",
    "  \n",
    "  # \n",
    "  def fit(self, X, y):\n",
    "    # Train data is required for prediction  :-(\n",
    "    self.X = torch.tensor(X, dtype=torch.float32)\n",
    "    self.y = torch.tensor(y, dtype=torch.float32)\n",
    "    \n",
    "    #\n",
    "    self.weights = torch.randn(self.X.shape[1], dtype=torch.float32, requires_grad=True)\n",
    "    \n",
    "    #\n",
    "    optim = torch.optim.Adam([self.sigma, self.noise, self.weights], lr=self.lr)\n",
    "    \n",
    "    # Epochs\n",
    "    for e in range(self.epochs):\n",
    "      # Gradient reset\n",
    "      optim.zero_grad()\n",
    "      \n",
    "      #\n",
    "      K = self.kernel(self.X, self.X) + self.noise**2 * torch.eye(len(self.X))\n",
    "      loss = torch.mean(torch.logdet(K) + self.y.T @ torch.linalg.solve(K, self.y)) # solve == inv\n",
    "      \n",
    "      #\n",
    "      loss.backward()\n",
    "      optim.step()\n",
    "    \n",
    "    #\n",
    "    self.K_inv = torch.linalg.solve(\n",
    "      self.kernel(self.X, self.X) + self.noise**2 * torch.eye(len(X)), self.y) # solve == inv\n",
    "  \n",
    "  #\n",
    "  def predict(self, X):\n",
    "    X = torch.tensor(X, dtype=torch.float32)\n",
    "    \n",
    "    K_  = self.kernel(self.X, X)                                #\n",
    "    K__ = self.kernel(X, X) + self.noise**2 * torch.eye(len(X)) #\n",
    "    \n",
    "    mu    = K_.T @ self.K_inv @ self.y\n",
    "    cov   = K__ - K_.T @ self.K_inv @ K_\n",
    "    sigma = torch.sqrt(torch.diag(cov))\n",
    "    \n",
    "    #\n",
    "    return mu.detach().numpy(), sigma.detach().numpy()\n",
    "\n",
    "  def __str__(self):\n",
    "    return f'GaussianProcessRBF'"
   ]
  },
  {
   "cell_type": "markdown",
   "id": "cc6ead0e",
   "metadata": {},
   "source": [
    "#### Carregamento dos dados"
   ]
  },
  {
   "cell_type": "code",
   "execution_count": 13,
   "id": "bbb9a165",
   "metadata": {},
   "outputs": [
    {
     "data": {
      "text/plain": [
       "((100, 1), (100, 1), (500, 1), (500, 1))"
      ]
     },
     "execution_count": 13,
     "metadata": {},
     "output_type": "execute_result"
    }
   ],
   "source": [
    "def prepare_data(path, delimiter=','):\n",
    "  # Data\n",
    "  data = np.genfromtxt(path, delimiter=',')\n",
    "\n",
    "  # Separation\n",
    "  X = data[:, :-1]\n",
    "  y = data[:, -1:]\n",
    "\n",
    "  # Normalization \n",
    "  X = (X - X.min(axis=0)) / (X.max(axis=0) - X.min(axis=0))           # MinMax  0 ~ 1\n",
    "  y = 2  * (y - y.min(axis=0)) / (y.max(axis=0) - y.min(axis=0)) - 1  # MinMax -1 ~ 1            \n",
    "\n",
    "  return X, y\n",
    "\n",
    "#\n",
    "X_train, y_train = prepare_data('./files/gp_data_train.csv')\n",
    "X_test,  y_test  = prepare_data('./files/gp_data_test.csv')\n",
    "\n",
    "#\n",
    "X_train.shape, y_train.shape, X_test.shape,  y_test.shape"
   ]
  },
  {
   "cell_type": "code",
   "execution_count": 23,
   "id": "4d6b91ee",
   "metadata": {},
   "outputs": [],
   "source": [
    "gp = GaussianProcessRBF()\n",
    "gp.fit(X_train, y_train)"
   ]
  }
 ],
 "metadata": {
  "kernelspec": {
   "display_name": "venv",
   "language": "python",
   "name": "python3"
  },
  "language_info": {
   "codemirror_mode": {
    "name": "ipython",
    "version": 3
   },
   "file_extension": ".py",
   "mimetype": "text/x-python",
   "name": "python",
   "nbconvert_exporter": "python",
   "pygments_lexer": "ipython3",
   "version": "3.9.6"
  }
 },
 "nbformat": 4,
 "nbformat_minor": 5
}
