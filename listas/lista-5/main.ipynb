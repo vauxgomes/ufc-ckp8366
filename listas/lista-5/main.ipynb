{
 "cells": [
  {
   "cell_type": "markdown",
   "id": "793506be-eaa9-4479-9b1b-9bc425bcadbe",
   "metadata": {},
   "source": [
    "# CKP8366 - TÓPICOS AVANÇADOS - APRENDIZAGEM DE MÁQUINA PROBABILÍSTICA\n",
    "\n",
    "<img  src=\"https://img.shields.io/badge/UFC_CKP8366-VAUX GOMES-000000?style=for-the-badge&logo=data:image/png;base64,iVBORw0KGgoAAAANSUhEUgAAAAsAAAAOCAYAAAD5YeaVAAAABHNCSVQICAgIfAhkiAAAAAlwSFlzAAAANgAAADYBsVpjYQAAABl0RVh0U29mdHdhcmUAd3d3Lmlua3NjYXBlLm9yZ5vuPBoAAAENSURBVCiRbdFBS9QBEAXw36y7Wq6IgUSGsixhJBpiRBB08XN7ETyIFyPYui2KBXsQTUphsbbx4Cz8E+cyw8ybN/NmQsMy8xO+YRkdXGA9Ig6g3QC+r/Ad/lS8hp9TTKtBvFB+Dt2qZXNyuxEnNnCORUQ1Xj8G/lX7trAfEVeZOYu3j63xDG8wg35mdiPiFpf/gTNzocZ+xQgv8KGYp3WRmTtYxQBPiv0Wh5W/wjaG7WI8K1HThlPsYowevmO+hZe4wfOImJTIV5jgafl/WInM3MBmMY5xXP41ltx/cgaDKAF999/q1L0/Yq9ygc8RMWxBRJzgN7bwF8PS0MNpRAwf3nlUAo/qdAf4gh9TwB2yEFM5Ddb+rgAAAABJRU5ErkJggg==\" /> <img src=\"https://img.shields.io/badge/Jupyter-000000?style=for-the-badge&logo=jupyter&logoColor=white\" /> <img src=\"https://img.shields.io/badge/Python-000000?style=for-the-badge&logo=python&logoColor=white\" />\n"
   ]
  },
  {
   "cell_type": "code",
   "execution_count": 39,
   "id": "6d7e876f",
   "metadata": {},
   "outputs": [],
   "source": [
    "#\n",
    "import numpy as np\n",
    "import matplotlib.pyplot as plt\n",
    "from sklearn.model_selection import train_test_split\n"
   ]
  },
  {
   "cell_type": "markdown",
   "id": "e9a7a24e",
   "metadata": {},
   "source": [
    "## Gaussian Process"
   ]
  },
  {
   "cell_type": "code",
   "execution_count": null,
   "id": "4bd81902",
   "metadata": {},
   "outputs": [],
   "source": [
    "class GaussianProcess:\n",
    "  def __init__(self, kernel):\n",
    "    pass\n",
    "  \n",
    "  def __str__(self):\n",
    "    return f'GaussianProcessRBF'"
   ]
  },
  {
   "cell_type": "markdown",
   "id": "18d00a34",
   "metadata": {},
   "source": [
    "## Radial Basis Function Kernel\n",
    "\n",
    "$$k(x_1, x_2) = \\exp\\left(-\\frac{\\|x_1 - x_2\\|^2}{2\\sigma^2}\\right)$$\n",
    "\n",
    "> O slide mostra uma versão ponderada (um pouco diferente)"
   ]
  },
  {
   "cell_type": "markdown",
   "id": "331ece5a",
   "metadata": {},
   "source": [
    "> $$\\displaystyle k(x_i, x_j) = \\sigma^2 \\exp \\left(-\\frac{1}{2} \\sum_{d=1}^D w_d^2(x_{id} - x_{jd})^2\\right)$$"
   ]
  },
  {
   "cell_type": "code",
   "execution_count": 55,
   "id": "42fc8053",
   "metadata": {},
   "outputs": [
    {
     "name": "stderr",
     "output_type": "stream",
     "text": [
      "/var/folders/2_/rvh1zv7d565dmp07jlhl48340000gn/T/ipykernel_7744/4192649456.py:22: DeprecationWarning: Conversion of an array with ndim > 0 to a scalar is deprecated, and will error in future. Ensure you extract a single element from your array before performing this operation. (Deprecated NumPy 1.25.)\n",
      "  K[i, j] = sigma2 * np.exp(- 0.5 * sum_)\n"
     ]
    },
    {
     "data": {
      "text/plain": [
       "array([[1.        , 0.91594906, 0.89136795, ..., 0.95487084, 0.8974108 ,\n",
       "        0.93708574],\n",
       "       [0.        , 0.        , 0.        , ..., 0.        , 0.        ,\n",
       "        0.        ],\n",
       "       [0.        , 0.        , 0.        , ..., 0.        , 0.        ,\n",
       "        0.        ],\n",
       "       ...,\n",
       "       [0.        , 0.        , 0.        , ..., 0.        , 0.        ,\n",
       "        0.        ],\n",
       "       [0.        , 0.        , 0.        , ..., 0.        , 0.        ,\n",
       "        0.        ],\n",
       "       [0.        , 0.        , 0.        , ..., 0.        , 0.        ,\n",
       "        0.        ]])"
      ]
     },
     "execution_count": 55,
     "metadata": {},
     "output_type": "execute_result"
    }
   ],
   "source": [
    "# RBF\n",
    "def rbf(xi, xj, sigma, weights=None):\n",
    "  if weights is None:\n",
    "    weights = np.ones(xi.shape[1]) # No caso vai ser apenas 1 dim\n",
    "  \n",
    "  #  \n",
    "  weights2  = weights**2\n",
    "  sigma2 = sigma**2\n",
    "  \n",
    "  #\n",
    "  K = np.zeros((xi.shape[0], xj.shape[0])) # Output matrix\n",
    "  \n",
    "  #\n",
    "  for i in range(xi.shape[0]):\n",
    "    for j in range(xj.shape[0]):\n",
    "      sum_ = 0\n",
    "      \n",
    "      # main loop\n",
    "      for d in range(xi.shape[1]):\n",
    "        sum_ += weights2 * (xi[i, d] - xj[j, d])**2\n",
    "        \n",
    "      K[i, j] = sigma2 * np.exp(- 0.5 * sum_)\n",
    "   \n",
    "        \n",
    "    return K\n",
    "  \n",
    "rbf(X, X, sigma=1)"
   ]
  },
  {
   "cell_type": "markdown",
   "id": "cc6ead0e",
   "metadata": {},
   "source": [
    "#### Carregamento dos dados"
   ]
  },
  {
   "cell_type": "code",
   "execution_count": 10,
   "id": "bbb9a165",
   "metadata": {},
   "outputs": [
    {
     "data": {
      "text/plain": [
       "(np.float64(1.0), np.float64(-1.0), np.float64(1.0))"
      ]
     },
     "execution_count": 10,
     "metadata": {},
     "output_type": "execute_result"
    }
   ],
   "source": [
    "# Data\n",
    "data = np.genfromtxt('./files/gp_data_train.csv', delimiter=',')\n",
    "\n",
    "# Separation\n",
    "X = data[:, :-1]\n",
    "y = data[:, -1:]\n",
    "\n",
    "# Normalization \n",
    "X = (X - X.min(axis=0)) / (X.max(axis=0) - X.min(axis=0))           # MinMax 0 ~ 1\n",
    "y = 2  * (y - y.min(axis=0)) / (y.max(axis=0) - y.min(axis=0)) - 1  # MinMax -1 ~ 1\n",
    "\n",
    "#\n",
    "X.shape, y.shape"
   ]
  },
  {
   "cell_type": "code",
   "execution_count": 24,
   "id": "9961e088",
   "metadata": {},
   "outputs": [
    {
     "data": {
      "text/plain": [
       "array([[0.41903348]])"
      ]
     },
     "execution_count": 24,
     "metadata": {},
     "output_type": "execute_result"
    }
   ],
   "source": [
    "np.subtract.outer(X[0] , X[1])"
   ]
  },
  {
   "cell_type": "code",
   "execution_count": 15,
   "id": "c9282845",
   "metadata": {},
   "outputs": [
    {
     "data": {
      "text/plain": [
       "array([[ 0, -1, -2],\n",
       "       [ 1,  0, -1],\n",
       "       [ 2,  1,  0]])"
      ]
     },
     "execution_count": 15,
     "metadata": {},
     "output_type": "execute_result"
    }
   ],
   "source": [
    "np.subtract.outer(a, a)"
   ]
  },
  {
   "cell_type": "code",
   "execution_count": 26,
   "id": "4d6b91ee",
   "metadata": {},
   "outputs": [
    {
     "data": {
      "text/plain": [
       "array([4, 5])"
      ]
     },
     "execution_count": 26,
     "metadata": {},
     "output_type": "execute_result"
    }
   ],
   "source": [
    "b"
   ]
  },
  {
   "cell_type": "code",
   "execution_count": 27,
   "id": "d728a46b",
   "metadata": {},
   "outputs": [
    {
     "data": {
      "text/plain": [
       "array([[ 0, -1],\n",
       "       [ 1,  0]])"
      ]
     },
     "execution_count": 27,
     "metadata": {},
     "output_type": "execute_result"
    }
   ],
   "source": [
    "np.subtract.outer(b, b)"
   ]
  },
  {
   "cell_type": "code",
   "execution_count": 38,
   "id": "94dc1889",
   "metadata": {},
   "outputs": [
    {
     "data": {
      "text/plain": [
       "array([-0.73060254,  0.47775726,  0.93771024,  0.51140807, -0.85667732,\n",
       "       -1.07213306, -0.6432009 ,  0.75399618,  0.46886824,  0.97991486])"
      ]
     },
     "execution_count": 38,
     "metadata": {},
     "output_type": "execute_result"
    }
   ],
   "source": []
  },
  {
   "cell_type": "code",
   "execution_count": 41,
   "id": "628d94ad",
   "metadata": {},
   "outputs": [],
   "source": [
    "X_train, X_test, y_train, y_test = train_test_split(X, y)"
   ]
  },
  {
   "cell_type": "code",
   "execution_count": 44,
   "id": "09e6bec0",
   "metadata": {},
   "outputs": [
    {
     "data": {
      "text/plain": [
       "((75, 1), (25, 1), (75, 1), (25, 1))"
      ]
     },
     "execution_count": 44,
     "metadata": {},
     "output_type": "execute_result"
    }
   ],
   "source": [
    "X_train.shape, X_test.shape, y_train.shape, y_test.shape"
   ]
  },
  {
   "cell_type": "code",
   "execution_count": 45,
   "id": "d7ac9d70",
   "metadata": {},
   "outputs": [
    {
     "data": {
      "text/plain": [
       "array([[0.73717792],\n",
       "       [0.62071648],\n",
       "       [0.13786173],\n",
       "       [0.38396351],\n",
       "       [0.62408241],\n",
       "       [0.72804247],\n",
       "       [0.98999346],\n",
       "       [0.84305158],\n",
       "       [0.28347277],\n",
       "       [0.76225112],\n",
       "       [0.41560977],\n",
       "       [0.76341022],\n",
       "       [0.06848833],\n",
       "       [0.30241336],\n",
       "       [0.16989129],\n",
       "       [0.60942349],\n",
       "       [0.41839138],\n",
       "       [0.68288454],\n",
       "       [0.68990236],\n",
       "       [0.21663366],\n",
       "       [0.52663701],\n",
       "       [0.69017656],\n",
       "       [0.31333796],\n",
       "       [0.62168719],\n",
       "       [0.04447241],\n",
       "       [0.72129602],\n",
       "       [0.54653754],\n",
       "       [0.16270199],\n",
       "       [0.94771555],\n",
       "       [0.47466176],\n",
       "       [0.13984601],\n",
       "       [0.98509615],\n",
       "       [0.84373829],\n",
       "       [0.41892344],\n",
       "       [0.39016039],\n",
       "       [0.40939647],\n",
       "       [0.33426983],\n",
       "       [0.33356297],\n",
       "       [0.40715389],\n",
       "       [0.10671603],\n",
       "       [0.23236353],\n",
       "       [0.47680872],\n",
       "       [0.18187135],\n",
       "       [0.5818937 ],\n",
       "       [0.39086565],\n",
       "       [0.69381129],\n",
       "       [0.10159948],\n",
       "       [0.87755509],\n",
       "       [0.51403275],\n",
       "       [0.22949344],\n",
       "       [0.67928071],\n",
       "       [0.59056922],\n",
       "       [0.42353059],\n",
       "       [0.58928764],\n",
       "       [0.50477773],\n",
       "       [0.67252875],\n",
       "       [0.92828442],\n",
       "       [0.89586778],\n",
       "       [0.62788862],\n",
       "       [0.27573739],\n",
       "       [0.59938049],\n",
       "       [0.85097802],\n",
       "       [0.21519194],\n",
       "       [0.60751278],\n",
       "       [0.02804477],\n",
       "       [1.        ],\n",
       "       [0.        ],\n",
       "       [0.34850711],\n",
       "       [0.54967111],\n",
       "       [0.6313861 ],\n",
       "       [0.66703947],\n",
       "       [0.88763443],\n",
       "       [0.39001596],\n",
       "       [0.34699295],\n",
       "       [0.82739723]])"
      ]
     },
     "execution_count": 45,
     "metadata": {},
     "output_type": "execute_result"
    }
   ],
   "source": [
    "X_train"
   ]
  },
  {
   "cell_type": "code",
   "execution_count": 47,
   "id": "03d23e5b",
   "metadata": {},
   "outputs": [
    {
     "data": {
      "text/plain": [
       "(100, 1)"
      ]
     },
     "execution_count": 47,
     "metadata": {},
     "output_type": "execute_result"
    }
   ],
   "source": [
    "X.shape"
   ]
  },
  {
   "cell_type": "code",
   "execution_count": null,
   "id": "e82b68ee",
   "metadata": {},
   "outputs": [],
   "source": []
  }
 ],
 "metadata": {
  "kernelspec": {
   "display_name": "venv",
   "language": "python",
   "name": "python3"
  },
  "language_info": {
   "codemirror_mode": {
    "name": "ipython",
    "version": 3
   },
   "file_extension": ".py",
   "mimetype": "text/x-python",
   "name": "python",
   "nbconvert_exporter": "python",
   "pygments_lexer": "ipython3",
   "version": "3.9.6"
  }
 },
 "nbformat": 4,
 "nbformat_minor": 5
}
