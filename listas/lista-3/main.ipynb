{
 "cells": [
  {
   "cell_type": "markdown",
   "metadata": {},
   "source": [
    "# CKP8366 - TÓPICOS AVANÇADOS - APRENDIZAGEM DE MÁQUINA PROBABILÍSTICA\n",
    "\n",
    "<img  src=\"https://img.shields.io/badge/UFC_CKP8366-VAUX GOMES-000000?style=for-the-badge&logo=data:image/png;base64,iVBORw0KGgoAAAANSUhEUgAAAAsAAAAOCAYAAAD5YeaVAAAABHNCSVQICAgIfAhkiAAAAAlwSFlzAAAANgAAADYBsVpjYQAAABl0RVh0U29mdHdhcmUAd3d3Lmlua3NjYXBlLm9yZ5vuPBoAAAENSURBVCiRbdFBS9QBEAXw36y7Wq6IgUSGsixhJBpiRBB08XN7ETyIFyPYui2KBXsQTUphsbbx4Cz8E+cyw8ybN/NmQsMy8xO+YRkdXGA9Ig6g3QC+r/Ad/lS8hp9TTKtBvFB+Dt2qZXNyuxEnNnCORUQ1Xj8G/lX7trAfEVeZOYu3j63xDG8wg35mdiPiFpf/gTNzocZ+xQgv8KGYp3WRmTtYxQBPiv0Wh5W/wjaG7WI8K1HThlPsYowevmO+hZe4wfOImJTIV5jgafl/WInM3MBmMY5xXP41ltx/cgaDKAF999/q1L0/Yq9ygc8RMWxBRJzgN7bwF8PS0MNpRAwf3nlUAo/qdAf4gh9TwB2yEFM5Ddb+rgAAAABJRU5ErkJggg==\" /> <img src=\"https://img.shields.io/badge/Jupyter-000000?style=for-the-badge&logo=jupyter&logoColor=white\" /> <img src=\"https://img.shields.io/badge/Python-000000?style=for-the-badge&logo=python&logoColor=white\" />\n"
   ]
  },
  {
   "cell_type": "code",
   "execution_count": 1,
   "metadata": {},
   "outputs": [],
   "source": [
    "import numpy as np\n",
    "from scipy.stats import norm, multivariate_normal\n",
    "\n",
    "import seaborn as sns\n",
    "import matplotlib.pyplot as plt"
   ]
  },
  {
   "cell_type": "markdown",
   "metadata": {},
   "source": [
    "## Gaussian Mixture Model"
   ]
  },
  {
   "cell_type": "code",
   "execution_count": 265,
   "metadata": {},
   "outputs": [],
   "source": [
    "class GaussianMixtureModel:\n",
    "  def __init__(self, K, max_epochs=100, min_diff=1e-6):\n",
    "    self.K = K\n",
    "    self.max_epochs = max_epochs\n",
    "    self.min_diff=max(0, min_diff)\n",
    "    \n",
    "  def fit(self, X):\n",
    "    D, N = X.shape\n",
    "    \n",
    "    # Start\n",
    "    self.means = X[np.random.choice(D, self.K, replace=False)]      # K x N\n",
    "    self.covariances = np.array([np.eye(N) * 1/self.K**(2/D)] * self.K) # K x (N x N)\n",
    "    self.weights = np.ones(self.K) / self.K \n",
    "    \n",
    "    print(self.means)\n",
    "    \n",
    "    # Debug\n",
    "    # print(self.means.shape, self.covariances.shape, self.weights.shape)\n",
    "    \n",
    "    for _ in range(self.max_epochs):\n",
    "      # Passo E (Expectation) consiste em computar os coeficientes de responsabilidade\n",
    "      responsibilities = np.zeros((D, self.K))\n",
    "      for k in range(self.K):\n",
    "        responsibilities[:, k] = self.weights[k] * multivariate_normal.pdf(X, self.means[k], np.diag(self.covariances[k]))\n",
    "\n",
    "      responsibilities /= np.sum(responsibilities, axis=1, keepdims=True) # Com esse keepdims não precisa fazer col por col\n",
    "      \n",
    "      # Passo M (Maximization) otimizar parâmetros\n",
    "      responsibilities_sum = np.sum(responsibilities, axis=0) # K x 1\n",
    "\n",
    "      # Part I\n",
    "      self.weights = responsibilities_sum / N # K x 1\n",
    "\n",
    "      # Part II & III\n",
    "      for k in range(self.K):\n",
    "        self.means[k] = np.sum(responsibilities[:, k].reshape((D, 1)) * X, axis=0) / responsibilities_sum[k]\n",
    "        \n",
    "        # Não consegui uma versão vetorizada : (\n",
    "        acc = 0\n",
    "        for i in range(D):\n",
    "          acc += responsibilities[i, k] * X[i] @ X[i].T\n",
    "          \n",
    "        self.covariances[k] = np.diag(acc/responsibilities_sum[k] - self.means[k]*self.means[k].T)\n",
    "  \n",
    "  def __str__(self):\n",
    "    return f'GaussianMixtureModel: \\n(K → {self.k})'"
   ]
  },
  {
   "cell_type": "markdown",
   "metadata": {},
   "source": [
    "#### Carregamento dos dados"
   ]
  },
  {
   "cell_type": "code",
   "execution_count": 267,
   "metadata": {},
   "outputs": [],
   "source": [
    "# Data\n",
    "X = np.genfromtxt('./files/clustering_data.csv', delimiter=',')\n",
    "# X = (X - X.min(axis=0)) / (X.max(axis=0) - X.min(axis=0)) # Normalization 0 ~ 1"
   ]
  },
  {
   "cell_type": "code",
   "execution_count": 268,
   "metadata": {},
   "outputs": [
    {
     "name": "stdout",
     "output_type": "stream",
     "text": [
      "[[  6.59068455  -4.04433145]\n",
      " [-10.65622508  -6.55054662]\n",
      " [ -7.18238116  -5.34864914]\n",
      " [-10.10452702  -7.8882539 ]\n",
      " [ -3.59893964   1.56448382]\n",
      " [  8.66801617   2.14237333]]\n"
     ]
    },
    {
     "data": {
      "text/plain": [
       "array([[2.35861902, 1.5001798 ],\n",
       "       [2.34943679, 1.49354498],\n",
       "       [2.34939616, 1.49351562],\n",
       "       [2.34950149, 1.49359173],\n",
       "       [2.3540929 , 1.49690944],\n",
       "       [2.35655301, 1.49868701]])"
      ]
     },
     "execution_count": 268,
     "metadata": {},
     "output_type": "execute_result"
    }
   ],
   "source": [
    "gmm = GaussianMixtureModel(6)\n",
    "gmm.fit(X)\n",
    "gmm.means"
   ]
  },
  {
   "cell_type": "code",
   "execution_count": 269,
   "metadata": {},
   "outputs": [
    {
     "data": {
      "image/png": "[encoded data removed]",
      "text/plain": [
       "<Figure size 800x500 with 1 Axes>"
      ]
     },
     "metadata": {},
     "output_type": "display_data"
    }
   ],
   "source": [
    "plt.figure(figsize=(8,5))\n",
    "\n",
    "plt.scatter(X[:,0],X[:,1])\n",
    "plt.scatter(gmm.means[:,0], gmm.means[:,1])\n",
    "# sns.kdeplot(x=X[:, 0], y=X[:, 1], levels=20, color='k', alpha=0.2)\n",
    "\n",
    "plt.grid(False)\n",
    "# plt.axis('off')\n",
    "plt.title('Exibição dos dados')\n",
    "plt.show()"
   ]
  },
  {
   "cell_type": "code",
   "execution_count": 243,
   "metadata": {},
   "outputs": [
    {
     "data": {
      "text/plain": [
       "((100, 2), (3, 2), (3, 2, 2), (3,))"
      ]
     },
     "execution_count": 243,
     "metadata": {},
     "output_type": "execute_result"
    }
   ],
   "source": [
    "# init\n",
    "K = 3\n",
    "max_epochs = 100\n",
    "min_diff = 1e-6\n",
    "\n",
    "# Preparation\n",
    "D, N = X.shape\n",
    "\n",
    "means = X[np.random.choice(D, K, replace=False)]      # K x N\n",
    "covariances = np.array([np.eye(N) *(1/K**(2/D))] * K) # K x (N x N)\n",
    "weights = np.ones(K) / K                              # K x 1\n",
    "\n",
    "X.shape, means.shape, covariances.shape, weights.shape"
   ]
  },
  {
   "cell_type": "code",
   "execution_count": 244,
   "metadata": {},
   "outputs": [
    {
     "data": {
      "text/plain": [
       "(100, 3)"
      ]
     },
     "execution_count": 244,
     "metadata": {},
     "output_type": "execute_result"
    }
   ],
   "source": [
    "# Expectation\n",
    "responsibilities = np.zeros((D, K))\n",
    "for k in range(K):\n",
    "  responsibilities[:, k] = weights[k] * multivariate_normal.pdf(X, means[k], np.diag(covariances[k]))\n",
    "\n",
    "responsibilities /= np.sum(responsibilities, axis=1, keepdims=True) # Com esse keepdims não precisa fazer col por col\n",
    "responsibilities.shape"
   ]
  },
  {
   "cell_type": "code",
   "execution_count": 245,
   "metadata": {},
   "outputs": [],
   "source": [
    "# Maximization\n",
    "responsibilities_sum = np.sum(responsibilities, axis=0) # K x 1\n",
    "\n",
    "# Part I\n",
    "weights = responsibilities_sum / N # K x 1\n",
    "\n",
    "# Part II & III\n",
    "for k in range(K):\n",
    "  means[k] = np.sum(responsibilities[:, k].reshape((D, 1)) * X, axis=0) / responsibilities_sum[k]\n",
    "  \n",
    "  # Não consegui uma versão vetorizada : (\n",
    "  acc = 0\n",
    "  for i in range(D):\n",
    "    acc += responsibilities[i, k] * X[i] @ X[i].T\n",
    "    \n",
    "  covariances[k] = np.diag(acc/responsibilities_sum[k] - means[k]*means[k].T)"
   ]
  },
  {
   "cell_type": "code",
   "execution_count": 237,
   "metadata": {},
   "outputs": [
    {
     "data": {
      "text/plain": [
       "array([[[0.47247608, 0.        ],\n",
       "        [0.        , 0.49922366]],\n",
       "\n",
       "       [[0.46181676, 0.        ],\n",
       "        [0.        , 0.46776501]],\n",
       "\n",
       "       [[0.4811793 , 0.        ],\n",
       "        [0.        , 0.51592271]]])"
      ]
     },
     "execution_count": 237,
     "metadata": {},
     "output_type": "execute_result"
    }
   ],
   "source": [
    "# Part II & III\n",
    "for k in range(K):\n",
    "  \n",
    "  aux = 0\n",
    "  for i in range(D):\n",
    "    aux += responsibilities[i, k] * X[i] @ X[i].T\n",
    "  \n",
    "  covariances[k] = np.diag(aux/responsibilities_sum[k] - means[k]*means[k].T)\n",
    "  \n",
    "covariances"
   ]
  },
  {
   "cell_type": "code",
   "execution_count": 233,
   "metadata": {},
   "outputs": [
    {
     "data": {
      "text/plain": [
       "array([[[0.97826739, 0.        ],\n",
       "        [0.        , 0.97826739]],\n",
       "\n",
       "       [[0.97826739, 0.        ],\n",
       "        [0.        , 0.97826739]],\n",
       "\n",
       "       [[0.97826739, 0.        ],\n",
       "        [0.        , 0.97826739]]])"
      ]
     },
     "execution_count": 233,
     "metadata": {},
     "output_type": "execute_result"
    }
   ],
   "source": [
    "covariances"
   ]
  },
  {
   "cell_type": "code",
   "execution_count": 183,
   "metadata": {},
   "outputs": [],
   "source": [
    "a = np.array([[1, 2], [3, 4], [5, 6]])\n"
   ]
  },
  {
   "cell_type": "code",
   "execution_count": 193,
   "metadata": {},
   "outputs": [
    {
     "data": {
      "text/plain": [
       "array([0., 0., 0.])"
      ]
     },
     "execution_count": 193,
     "metadata": {},
     "output_type": "execute_result"
    }
   ],
   "source": [
    "np.zeros(3)"
   ]
  },
  {
   "cell_type": "code",
   "execution_count": 192,
   "metadata": {},
   "outputs": [
    {
     "data": {
      "text/plain": [
       "array([[0.79400969, 0.65701328],\n",
       "       [0.64399603, 0.69662671]])"
      ]
     },
     "execution_count": 192,
     "metadata": {},
     "output_type": "execute_result"
    }
   ],
   "source": [
    "np.einsum('ij,ik->jk', X, X)/responsibilities_sum[k] - means[k]*(means[k].T)"
   ]
  }
 ],
 "metadata": {
  "kernelspec": {
   "display_name": "venv",
   "language": "python",
   "name": "python3"
  },
  "language_info": {
   "codemirror_mode": {
    "name": "ipython",
    "version": 3
   },
   "file_extension": ".py",
   "mimetype": "text/x-python",
   "name": "python",
   "nbconvert_exporter": "python",
   "pygments_lexer": "ipython3",
   "version": "3.9.6"
  }
 },
 "nbformat": 4,
 "nbformat_minor": 2
}
